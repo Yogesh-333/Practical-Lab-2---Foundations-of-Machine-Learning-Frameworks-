{
 "cells": [
  {
   "cell_type": "markdown",
   "id": "1ca606df",
   "metadata": {},
   "source": [
    "# Practical Lab 2: Multivariate Linear Regression, Non-Parametric Models and Cross-Validation  \n",
    "**Student Name:** Yogesh Kumar Gopal  \n",
    "**ID:** 8996403\n",
    "**Course:** CSCN8010\n"
   ]
  },
  {
   "cell_type": "markdown",
   "id": "5a14149b",
   "metadata": {},
   "source": [
    "### Part 1: Data Preparation & EDA"
   ]
  },
  {
   "cell_type": "code",
   "execution_count": null,
   "id": "e5af1f00",
   "metadata": {},
   "outputs": [],
   "source": [
    "# Import necessary libraries\n",
    "from sklearn import datasets\n",
    "import pandas as pd\n",
    "import numpy as np\n",
    "import matplotlib.pyplot as plt\n",
    "import seaborn as sns"
   ]
  },
  {
   "cell_type": "markdown",
   "id": "627737b3",
   "metadata": {},
   "source": [
    "Get the Data"
   ]
  },
  {
   "cell_type": "code",
   "execution_count": null,
   "id": "09464b93",
   "metadata": {},
   "outputs": [],
   "source": [
    "# Load diabetes dataset as DataFrame\n",
    "diabetes = datasets.load_diabetes(as_frame=True)\n",
    "df = diabetes.frame\n",
    "df.head()\n"
   ]
  },
  {
   "cell_type": "markdown",
   "id": "0b53de7a",
   "metadata": {},
   "source": [
    "**Objective:** Predict \"disease progression one year after baseline\" (target variable `y`) based on patient features (X)."
   ]
  },
  {
   "cell_type": "markdown",
   "id": "71d134d1",
   "metadata": {},
   "source": [
    "EDA - Exploratory Data Analysis"
   ]
  },
  {
   "cell_type": "code",
   "execution_count": null,
   "id": "75b91c6a",
   "metadata": {},
   "outputs": [],
   "source": [
    "# Statistics\n",
    "df.describe()"
   ]
  },
  {
   "cell_type": "code",
   "execution_count": null,
   "id": "e80b4edf",
   "metadata": {},
   "outputs": [],
   "source": [
    "# Scatter plot for BMI vs Disease Progression\n",
    "plt.scatter(df['bmi'], df['target'])\n",
    "plt.xlabel('BMI')\n",
    "plt.ylabel('Disease Progression')\n",
    "plt.title('BMI vs Disease Progression')\n",
    "\n",
    "# Correlation heatmap\n",
    "plt.figure(figsize=(10,8))\n",
    "sns.heatmap(df.corr(), annot=True, cmap='coolwarm')\n"
   ]
  },
  {
   "cell_type": "markdown",
   "id": "02e7cf06",
   "metadata": {},
   "source": [
    "## Insights based on your EDA plots:\n",
    "\n",
    "1. BMI is strongly correlated with disease progression:\n",
    "\n",
    "    The scatter plot of BMI vs. target (disease progression) shows a clear positive trend, indicating that higher BMI values are associated with increased disease progression.\n",
    "\n",
    "    The correlation matrix confirms this with a strong correlation coefficient of 0.59 between BMI and the target variable — one of the highest correlations observed.\n",
    "\n",
    "2. Other significant features include S5 and BP:\n",
    "\n",
    "    S5 shows a strong positive correlation (0.57) with the target.\n",
    "\n",
    "    Blood Pressure (bp) also shows a moderate positive correlation (0.44), suggesting it’s a relevant predictor.\n",
    "\n",
    "3. Feature distributions are standardized and mostly symmetric:\n",
    "\n",
    "    Most features like age, bmi, bp, and s1–s6 are centered around 0 due to standardization, with fairly normal distributions.\n",
    "\n",
    "    The target variable (disease progression) is right-skewed, indicating more cases with lower progression values and fewer extreme progression cases.\n",
    "\n",
    "4. Some features are highly correlated with each other:\n",
    "\n",
    "    S1 and S2 (both likely related to cholesterol or serum levels) have a very strong positive correlation (0.9), indicating multicollinearity.\n",
    "\n",
    "    S3 and S4 are negatively correlated (-0.74), which may impact model interpretation."
   ]
  },
  {
   "cell_type": "markdown",
   "id": "7f2d9b62",
   "metadata": {},
   "source": [
    "Data Cleaning"
   ]
  },
  {
   "cell_type": "code",
   "execution_count": 16,
   "id": "7a046de0",
   "metadata": {},
   "outputs": [
    {
     "data": {
      "application/vnd.microsoft.datawrangler.viewer.v0+json": {
       "columns": [
        {
         "name": "index",
         "rawType": "object",
         "type": "string"
        },
        {
         "name": "0",
         "rawType": "int64",
         "type": "integer"
        }
       ],
       "ref": "48a0ef0d-faad-40cb-aed3-a4416b84cdcb",
       "rows": [
        [
         "age",
         "0"
        ],
        [
         "sex",
         "0"
        ],
        [
         "bmi",
         "0"
        ],
        [
         "bp",
         "0"
        ],
        [
         "s1",
         "0"
        ],
        [
         "s2",
         "0"
        ],
        [
         "s3",
         "0"
        ],
        [
         "s4",
         "0"
        ],
        [
         "s5",
         "0"
        ],
        [
         "s6",
         "0"
        ],
        [
         "target",
         "0"
        ]
       ],
       "shape": {
        "columns": 1,
        "rows": 11
       }
      },
      "text/plain": [
       "age       0\n",
       "sex       0\n",
       "bmi       0\n",
       "bp        0\n",
       "s1        0\n",
       "s2        0\n",
       "s3        0\n",
       "s4        0\n",
       "s5        0\n",
       "s6        0\n",
       "target    0\n",
       "dtype: int64"
      ]
     },
     "execution_count": 16,
     "metadata": {},
     "output_type": "execute_result"
    }
   ],
   "source": [
    "df.isnull().sum()  # Check for missing values\n",
    "##No missing values; no obvious outliers in EDA — no cleaning needed."
   ]
  }
 ],
 "metadata": {
  "kernelspec": {
   "display_name": ".venv",
   "language": "python",
   "name": "python3"
  },
  "language_info": {
   "codemirror_mode": {
    "name": "ipython",
    "version": 3
   },
   "file_extension": ".py",
   "mimetype": "text/x-python",
   "name": "python",
   "nbconvert_exporter": "python",
   "pygments_lexer": "ipython3",
   "version": "3.12.2"
  }
 },
 "nbformat": 4,
 "nbformat_minor": 5
}
